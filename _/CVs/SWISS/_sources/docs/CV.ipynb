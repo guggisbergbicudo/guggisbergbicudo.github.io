{
 "cells": [
  {
   "cell_type": "markdown",
   "id": "4f0ff224",
   "metadata": {},
   "source": [
    "# Curriculum Vitae"
   ]
  },
  {
   "cell_type": "markdown",
   "id": "3f1bb29c",
   "metadata": {},
   "source": [
    "In the charts below, two representations of my life's development are shown. \n",
    "\n",
    "The first one displays how my productivity, according to my own subjective estimation, developed throughout my academic and professional life. \n",
    "\n",
    "In the second chart more concrete events are shown. Some of them are clickable and will take you to the corresponding section of my CV."
   ]
  },
  {
   "cell_type": "markdown",
   "id": "6ff15ea7",
   "metadata": {},
   "source": [
    "(chart)=\n",
    "\n",
    "## Productivity & Main Life Events Charts"
   ]
  },
  {
   "cell_type": "code",
   "execution_count": null,
   "id": "866e3eb1",
   "metadata": {
    "tags": [
     "remove-cell"
    ]
   },
   "outputs": [],
   "source": [
    "import pandas as pd\n",
    "import altair as alt"
   ]
  },
  {
   "cell_type": "code",
   "execution_count": null,
   "id": "8ba26f04",
   "metadata": {
    "tags": [
     "remove-cell"
    ]
   },
   "outputs": [],
   "source": [
    "def get_data():\n",
    "    productivity = pd.read_csv(\"../data.txt\", sep=\"\\t\", encoding=\"latin-1\")\n",
    "    events = pd.read_csv(\"../events.txt\", sep=\"\\t\", encoding=\"latin-1\")\n",
    "    events.loc[events[\"id\"] != \"noLink\", \"id\"] = \"#\" + events.loc[events[\"id\"] != \"noLink\", \"id\"]\n",
    "    data = (pd.concat(\n",
    "        [\n",
    "            productivity.melt('year').assign(type=\"line\", id=float(\"nan\")), \n",
    "            events.assign(type=\"point\")\n",
    "        ])\n",
    "            .reset_index(drop=True)\n",
    "           )\n",
    "    return data"
   ]
  },
  {
   "cell_type": "code",
   "execution_count": null,
   "id": "cae8fd18",
   "metadata": {
    "tags": [
     "remove-cell"
    ]
   },
   "outputs": [],
   "source": [
    "def get_chart(data):\n",
    "    domain = ['education', 'work', 'extra-curricular activities & hobbies', 'family', 'overall productivity']\n",
    "    range_ = ['#1b9e77', '#8e6c87', '#a76854', '#d69e09', '#666666']\n",
    "\n",
    "    selector = alt.selection_point(fields=['variable'], on='mouseover', nearest=False)\n",
    "\n",
    "    base = alt.Chart(data).properties(\n",
    "        width=500,\n",
    "        height=250,\n",
    "    #    title=\"Productivity and main events\"\n",
    "    ).add_params(selector)\n",
    "\n",
    "    points = base.mark_point(filled=True, size=200).encode(\n",
    "        x=alt.X('year:Q', axis=alt.Axis(title=None, format=\"g\")).scale(domain=[2007,2023]),\n",
    "        y=alt.Y('variable:O', axis=alt.Axis(title=None)),\n",
    "        color=alt.condition(selector, alt.Color('variable:O', scale=alt.Scale(domain=domain, range=range_)).legend(None), alt.value('lightgray')),\n",
    "        tooltip=\"value:N\",\n",
    "        href='id:N'\n",
    "    ).transform_filter(\n",
    "        {\"and\": [alt.FieldEqualPredicate(field='type', equal='point'), {\"not\": alt.FieldEqualPredicate(field='id', equal='noLink')}]}\n",
    "    )\n",
    "    \n",
    "    points_clickable = base.mark_point(filled=True, size=200).encode(\n",
    "        x=alt.X('year:Q', axis=alt.Axis(title=None, format=\"g\")).scale(domain=[2007,2023]),\n",
    "        y=alt.Y('variable:O', axis=alt.Axis(title=None)),\n",
    "        color=alt.condition(selector, alt.Color('variable:O', scale=alt.Scale(domain=domain, range=range_)).legend(None), alt.value('lightgray')),\n",
    "        tooltip=\"value:N\"\n",
    "    ).transform_filter(\n",
    "        alt.FieldEqualPredicate(field='id', equal='noLink')\n",
    "    )\n",
    "    \n",
    "    timeseries_chart = base.mark_line().encode(\n",
    "        x=alt.X('year:Q', axis=alt.Axis(title=None, format=\"g\")).scale(domain=[2007,2023]),\n",
    "        y=alt.Y('value:Q', axis=alt.Axis(title=None, labelOpacity=0)).scale(domain=(0, 40)),\n",
    "        color=alt.Color('variable:O', scale=alt.Scale(domain=domain, range=range_)).legend(title=\"category\", orient=\"right\")\n",
    "    ).transform_filter(\n",
    "        {\"and\": [alt.FieldEqualPredicate(field='type', equal='line'), selector]}\n",
    "    )\n",
    "\n",
    "    return timeseries_chart & (points + points_clickable)"
   ]
  },
  {
   "cell_type": "code",
   "execution_count": null,
   "id": "7e9c72cd",
   "metadata": {
    "tags": [
     "remove-cell"
    ]
   },
   "outputs": [],
   "source": [
    "data = get_data()\n",
    "data.tail()"
   ]
  },
  {
   "cell_type": "code",
   "execution_count": null,
   "id": "459312d9",
   "metadata": {
    "tags": [
     "remove-input"
    ]
   },
   "outputs": [],
   "source": [
    "get_chart(data)"
   ]
  },
  {
   "cell_type": "markdown",
   "id": "7b23e779",
   "metadata": {},
   "source": [
    "---"
   ]
  },
  {
   "cell_type": "markdown",
   "id": "aa2e1b8d",
   "metadata": {},
   "source": [
    "## Education"
   ]
  },
  {
   "cell_type": "markdown",
   "id": "209987a8",
   "metadata": {},
   "source": [
    "(cas)=\n",
    "### CAS UniBern Applied Data Science"
   ]
  },
  {
   "cell_type": "markdown",
   "id": "8e104154",
   "metadata": {},
   "source": [
    "Title final project: Network-wide estimation of train passenger counts using machine learning. [⤣](chart)"
   ]
  },
  {
   "cell_type": "markdown",
   "id": "159839c1",
   "metadata": {},
   "source": [
    "(msc)=\n",
    "### MSc ETH Spatial Development & Infrastructure Systems"
   ]
  },
  {
   "cell_type": "markdown",
   "id": "7bedef60",
   "metadata": {},
   "source": [
    "MSc Thesis: Convergence towards equilibrium in an agent-based transport simulation. [⤣](chart)"
   ]
  },
  {
   "cell_type": "markdown",
   "id": "9f097667",
   "metadata": {},
   "source": [
    "(bsc)=\n",
    "### B.Eng Transportation & Logistics (UFSC, Brazil)"
   ]
  },
  {
   "cell_type": "markdown",
   "id": "60a9599a",
   "metadata": {},
   "source": [
    "Graduation thesis: Development of a MATSim transport model for the city of Joinville (Brazil). [⤣](chart)"
   ]
  },
  {
   "cell_type": "markdown",
   "id": "8fb7e0ba",
   "metadata": {},
   "source": [
    "---"
   ]
  },
  {
   "cell_type": "markdown",
   "id": "7ef54ce7",
   "metadata": {},
   "source": [
    "## Work Experience"
   ]
  },
  {
   "cell_type": "markdown",
   "id": "e7db6336",
   "metadata": {},
   "source": [
    "(sbb2)=\n",
    "### Transport Planer at SBB (Bern)"
   ]
  },
  {
   "cell_type": "markdown",
   "id": "0ad35047",
   "metadata": {},
   "source": [
    "Data science related activities: \n",
    "\n",
    "- Automated reporting\n",
    "- Custom Python-based dashboarding\n",
    "- Developing and applying Statistical models & Machine learning\n",
    "- Automation of data and model pipelines (cloud and Windows based)\n",
    "\n",
    "Other activities:\n",
    "\n",
    "- Project management & leadership\n",
    "- IT infrastructure management incl. cost optimization\n",
    "- Participation in development projects with external partners (private & government)\n",
    "[⤣](chart)"
   ]
  },
  {
   "cell_type": "markdown",
   "id": "3034c65d",
   "metadata": {},
   "source": [
    "(sbb1)=\n",
    "### Internship & MSc Thesis at SBB (Bern)"
   ]
  },
  {
   "cell_type": "markdown",
   "id": "ce536240",
   "metadata": {},
   "source": [
    "Statistical analysis of an agent-based transport model, particularly in respect to stochastic convergence and results variability.\n",
    "\n",
    "Note: writing my MSc Thesis was part of my internship at SBB. [⤣](chart)"
   ]
  },
  {
   "cell_type": "markdown",
   "id": "1acef94e",
   "metadata": {},
   "source": [
    "(ase)=\n",
    "### Internship Modeling and Simulation at ASE AG (Zurich)"
   ]
  },
  {
   "cell_type": "markdown",
   "id": "52b5d91d",
   "metadata": {},
   "source": [
    "Worked on the development of a MATSim model for a multinational agglomeration. \n",
    "\n",
    "My tasks involved automation in Java, data analysis including pre- and post-processing as well as support for model calibration. [⤣](chart)"
   ]
  },
  {
   "cell_type": "markdown",
   "id": "6d149719",
   "metadata": {},
   "source": [
    "(hiwi)=\n",
    "### Student Research Assistant at IVT-ETH (Zurich)"
   ]
  },
  {
   "cell_type": "markdown",
   "id": "f871ada4",
   "metadata": {},
   "source": [
    "Data analysis and preparation for the development of multi-agent transport models. [⤣](chart)"
   ]
  },
  {
   "cell_type": "markdown",
   "id": "ea3a0895",
   "metadata": {},
   "source": [
    "(ippuj)=\n",
    "### Internship in Geographical Statistics at the municipal planning authority (Joinville, Brazil)"
   ]
  },
  {
   "cell_type": "markdown",
   "id": "8e83359a",
   "metadata": {},
   "source": [
    "Geographical data preparation for spatial and transport planning. [⤣](chart)"
   ]
  },
  {
   "cell_type": "markdown",
   "id": "8dd2d901",
   "metadata": {},
   "source": [
    "---"
   ]
  },
  {
   "cell_type": "markdown",
   "id": "e6f51afe",
   "metadata": {},
   "source": [
    "## Skills"
   ]
  },
  {
   "cell_type": "code",
   "execution_count": null,
   "id": "4427639c",
   "metadata": {
    "tags": [
     "remove-cell"
    ]
   },
   "outputs": [],
   "source": [
    "skills = pd.read_csv(\"../skills.txt\", sep=\"\\t\", encoding=\"latin-1\")\n",
    "\n",
    "domain = ['skill', 'programming', 'language', 'processes']\n",
    "range_ = ['#1b9e77', '#8e6c87', '#a76854', '#d69e09', '#666666']\n",
    "\n",
    "charts = [alt.Chart(skills.query(f\"category=='{cat}'\"), title=cat).properties(\n",
    "        width=200).mark_bar().encode(\n",
    "    x=alt.X('level:Q', axis=alt.Axis(title=None, labelOpacity=0)).scale(domain=[0, 5]),\n",
    "    color=alt.Color('category:N', scale=alt.Scale(domain=domain, range=range_)).legend(None),\n",
    "    y=alt.Y('skill:N', axis=alt.Axis(title=None)),\n",
    ") for cat in skills.category.unique()]"
   ]
  },
  {
   "cell_type": "code",
   "execution_count": null,
   "id": "9fefe261",
   "metadata": {
    "tags": [
     "remove-input"
    ]
   },
   "outputs": [],
   "source": [
    "(charts[0] & charts[1]) | (charts[2] & charts[3])"
   ]
  }
 ],
 "metadata": {
  "celltoolbar": "Edit Metadata",
  "jupytext": {
   "formats": "ipynb,md:myst"
  },
  "kernelspec": {
   "display_name": "Python 3 (ipykernel)",
   "language": "python",
   "name": "python3"
  },
  "language_info": {
   "codemirror_mode": {
    "name": "ipython",
    "version": 3
   },
   "file_extension": ".py",
   "mimetype": "text/x-python",
   "name": "python",
   "nbconvert_exporter": "python",
   "pygments_lexer": "ipython3",
   "version": "3.11.4"
  }
 },
 "nbformat": 4,
 "nbformat_minor": 5
}
