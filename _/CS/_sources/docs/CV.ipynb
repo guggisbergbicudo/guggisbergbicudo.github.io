{
 "cells": [
  {
   "cell_type": "markdown",
   "id": "4f0ff224",
   "metadata": {},
   "source": [
    "# Curriculum Vitae"
   ]
  },
  {
   "cell_type": "markdown",
   "id": "3f1bb29c",
   "metadata": {},
   "source": [
    "In the charts below, two representations of my life's development are shown. \n",
    "\n",
    "The first one displays how my productivity, according to my own subjective estimation, developed throughout my academic and professional life. \n",
    "\n",
    "In the second chart more concrete events are shown. Some of them are clickable and will take you to the corresponding section of my CV."
   ]
  },
  {
   "cell_type": "markdown",
   "id": "6ff15ea7",
   "metadata": {},
   "source": [
    "(chart)=\n",
    "\n",
    "## Productivity & Main Life Events Charts"
   ]
  },
  {
   "cell_type": "code",
   "execution_count": 1,
   "id": "866e3eb1",
   "metadata": {
    "tags": [
     "remove-cell"
    ]
   },
   "outputs": [],
   "source": [
    "import pandas as pd\n",
    "import altair as alt"
   ]
  },
  {
   "cell_type": "code",
   "execution_count": 2,
   "id": "8ba26f04",
   "metadata": {
    "tags": [
     "remove-cell"
    ]
   },
   "outputs": [],
   "source": [
    "def get_data():\n",
    "    productivity = pd.read_csv(\"../data.txt\", sep=\"\\t\", encoding=\"latin-1\")\n",
    "    events = pd.read_csv(\"../events.txt\", sep=\"\\t\", encoding=\"latin-1\")\n",
    "    events.loc[events[\"id\"] != \"noLink\", \"id\"] = \"#\" + events.loc[events[\"id\"] != \"noLink\", \"id\"]\n",
    "    data = (pd.concat(\n",
    "        [\n",
    "            productivity.melt('year').assign(type=\"line\", id=float(\"nan\")), \n",
    "            events.assign(type=\"point\")\n",
    "        ])\n",
    "            .reset_index(drop=True)\n",
    "           )\n",
    "    return data"
   ]
  },
  {
   "cell_type": "code",
   "execution_count": 3,
   "id": "cae8fd18",
   "metadata": {
    "tags": [
     "remove-cell"
    ]
   },
   "outputs": [],
   "source": [
    "def get_chart(data):\n",
    "    domain = ['education', 'work', 'extra-curricular activities & hobbies', 'family', 'overall productivity']\n",
    "    range_ = ['#1b9e77', '#8e6c87', '#a76854', '#d69e09', '#666666']\n",
    "\n",
    "    selector = alt.selection_point(fields=['variable'], on='mouseover', nearest=False)\n",
    "\n",
    "    base = alt.Chart(data).properties(\n",
    "        width=500,\n",
    "        height=250,\n",
    "    #    title=\"Productivity and main events\"\n",
    "    ).add_params(selector)\n",
    "\n",
    "    points = base.mark_point(filled=True, size=200).encode(\n",
    "        x=alt.X('year:Q', axis=alt.Axis(title=None, format=\"g\")).scale(domain=[2007,2023]),\n",
    "        y=alt.Y('variable:O', axis=alt.Axis(title=None)),\n",
    "        color=alt.condition(selector, alt.Color('variable:O', scale=alt.Scale(domain=domain, range=range_)).legend(None), alt.value('lightgray')),\n",
    "        tooltip=\"value:N\",\n",
    "        href='id:N'\n",
    "    ).transform_filter(\n",
    "        {\"and\": [alt.FieldEqualPredicate(field='type', equal='point'), {\"not\": alt.FieldEqualPredicate(field='id', equal='noLink')}]}\n",
    "    )\n",
    "    \n",
    "    points_clickable = base.mark_point(filled=True, size=200).encode(\n",
    "        x=alt.X('year:Q', axis=alt.Axis(title=None, format=\"g\")).scale(domain=[2007,2023]),\n",
    "        y=alt.Y('variable:O', axis=alt.Axis(title=None)),\n",
    "        color=alt.condition(selector, alt.Color('variable:O', scale=alt.Scale(domain=domain, range=range_)).legend(None), alt.value('lightgray')),\n",
    "        tooltip=\"value:N\"\n",
    "    ).transform_filter(\n",
    "        alt.FieldEqualPredicate(field='id', equal='noLink')\n",
    "    )\n",
    "    \n",
    "    timeseries_chart = base.mark_line().encode(\n",
    "        x=alt.X('year:Q', axis=alt.Axis(title=None, format=\"g\")).scale(domain=[2007,2023]),\n",
    "        y=alt.Y('value:Q', axis=alt.Axis(title=None, labelOpacity=0)).scale(domain=(0, 40)),\n",
    "        color=alt.Color('variable:O', scale=alt.Scale(domain=domain, range=range_)).legend(title=\"category\", orient=\"right\")\n",
    "    ).transform_filter(\n",
    "        {\"and\": [alt.FieldEqualPredicate(field='type', equal='line'), selector]}\n",
    "    )\n",
    "\n",
    "    return timeseries_chart & (points + points_clickable)"
   ]
  },
  {
   "cell_type": "code",
   "execution_count": 4,
   "id": "7e9c72cd",
   "metadata": {
    "tags": [
     "remove-cell"
    ]
   },
   "outputs": [
    {
     "data": {
      "text/html": [
       "<div>\n",
       "<style scoped>\n",
       "    .dataframe tbody tr th:only-of-type {\n",
       "        vertical-align: middle;\n",
       "    }\n",
       "\n",
       "    .dataframe tbody tr th {\n",
       "        vertical-align: top;\n",
       "    }\n",
       "\n",
       "    .dataframe thead th {\n",
       "        text-align: right;\n",
       "    }\n",
       "</style>\n",
       "<table border=\"1\" class=\"dataframe\">\n",
       "  <thead>\n",
       "    <tr style=\"text-align: right;\">\n",
       "      <th></th>\n",
       "      <th>year</th>\n",
       "      <th>variable</th>\n",
       "      <th>value</th>\n",
       "      <th>type</th>\n",
       "      <th>id</th>\n",
       "    </tr>\n",
       "  </thead>\n",
       "  <tbody>\n",
       "    <tr>\n",
       "      <th>92</th>\n",
       "      <td>2020</td>\n",
       "      <td>education</td>\n",
       "      <td>Graduation MSc ETHZ</td>\n",
       "      <td>point</td>\n",
       "      <td>#msc</td>\n",
       "    </tr>\n",
       "    <tr>\n",
       "      <th>93</th>\n",
       "      <td>2021</td>\n",
       "      <td>education</td>\n",
       "      <td>CAS Unibern in Applied Data Science</td>\n",
       "      <td>point</td>\n",
       "      <td>#cas-unibern-applied-data-science</td>\n",
       "    </tr>\n",
       "    <tr>\n",
       "      <th>94</th>\n",
       "      <td>2022</td>\n",
       "      <td>family</td>\n",
       "      <td>Birth first child</td>\n",
       "      <td>point</td>\n",
       "      <td>noLink</td>\n",
       "    </tr>\n",
       "    <tr>\n",
       "      <th>95</th>\n",
       "      <td>2023</td>\n",
       "      <td>family</td>\n",
       "      <td>Birth second child</td>\n",
       "      <td>point</td>\n",
       "      <td>noLink</td>\n",
       "    </tr>\n",
       "    <tr>\n",
       "      <th>96</th>\n",
       "      <td>2023</td>\n",
       "      <td>work</td>\n",
       "      <td>Data scientist at SGM</td>\n",
       "      <td>point</td>\n",
       "      <td>noLink</td>\n",
       "    </tr>\n",
       "  </tbody>\n",
       "</table>\n",
       "</div>"
      ],
      "text/plain": [
       "    year   variable                                value   type  \\\n",
       "92  2020  education                  Graduation MSc ETHZ  point   \n",
       "93  2021  education  CAS Unibern in Applied Data Science  point   \n",
       "94  2022     family                    Birth first child  point   \n",
       "95  2023     family                   Birth second child  point   \n",
       "96  2023       work                Data scientist at SGM  point   \n",
       "\n",
       "                                   id  \n",
       "92                               #msc  \n",
       "93  #cas-unibern-applied-data-science  \n",
       "94                             noLink  \n",
       "95                             noLink  \n",
       "96                             noLink  "
      ]
     },
     "execution_count": 4,
     "metadata": {},
     "output_type": "execute_result"
    }
   ],
   "source": [
    "data = get_data()\n",
    "data.tail()"
   ]
  },
  {
   "cell_type": "code",
   "execution_count": 12,
   "id": "459312d9",
   "metadata": {
    "tags": [
     "remove-input"
    ]
   },
   "outputs": [
    {
     "data": {
      "text/html": [
       "\n",
       "<style>\n",
       "  #altair-viz-928a74bf496348cab121c747726cd8d3.vega-embed {\n",
       "    width: 100%;\n",
       "    display: flex;\n",
       "  }\n",
       "\n",
       "  #altair-viz-928a74bf496348cab121c747726cd8d3.vega-embed details,\n",
       "  #altair-viz-928a74bf496348cab121c747726cd8d3.vega-embed details summary {\n",
       "    position: relative;\n",
       "  }\n",
       "</style>\n",
       "<div id=\"altair-viz-928a74bf496348cab121c747726cd8d3\"></div>\n",
       "<script type=\"text/javascript\">\n",
       "  var VEGA_DEBUG = (typeof VEGA_DEBUG == \"undefined\") ? {} : VEGA_DEBUG;\n",
       "  (function(spec, embedOpt){\n",
       "    let outputDiv = document.currentScript.previousElementSibling;\n",
       "    if (outputDiv.id !== \"altair-viz-928a74bf496348cab121c747726cd8d3\") {\n",
       "      outputDiv = document.getElementById(\"altair-viz-928a74bf496348cab121c747726cd8d3\");\n",
       "    }\n",
       "    const paths = {\n",
       "      \"vega\": \"https://cdn.jsdelivr.net/npm/vega@5?noext\",\n",
       "      \"vega-lib\": \"https://cdn.jsdelivr.net/npm/vega-lib?noext\",\n",
       "      \"vega-lite\": \"https://cdn.jsdelivr.net/npm/vega-lite@5.8.0?noext\",\n",
       "      \"vega-embed\": \"https://cdn.jsdelivr.net/npm/vega-embed@6?noext\",\n",
       "    };\n",
       "\n",
       "    function maybeLoadScript(lib, version) {\n",
       "      var key = `${lib.replace(\"-\", \"\")}_version`;\n",
       "      return (VEGA_DEBUG[key] == version) ?\n",
       "        Promise.resolve(paths[lib]) :\n",
       "        new Promise(function(resolve, reject) {\n",
       "          var s = document.createElement('script');\n",
       "          document.getElementsByTagName(\"head\")[0].appendChild(s);\n",
       "          s.async = true;\n",
       "          s.onload = () => {\n",
       "            VEGA_DEBUG[key] = version;\n",
       "            return resolve(paths[lib]);\n",
       "          };\n",
       "          s.onerror = () => reject(`Error loading script: ${paths[lib]}`);\n",
       "          s.src = paths[lib];\n",
       "        });\n",
       "    }\n",
       "\n",
       "    function showError(err) {\n",
       "      outputDiv.innerHTML = `<div class=\"error\" style=\"color:red;\">${err}</div>`;\n",
       "      throw err;\n",
       "    }\n",
       "\n",
       "    function displayChart(vegaEmbed) {\n",
       "      vegaEmbed(outputDiv, spec, embedOpt)\n",
       "        .catch(err => showError(`Javascript Error: ${err.message}<br>This usually means there's a typo in your chart specification. See the javascript console for the full traceback.`));\n",
       "    }\n",
       "\n",
       "    if(typeof define === \"function\" && define.amd) {\n",
       "      requirejs.config({paths});\n",
       "      require([\"vega-embed\"], displayChart, err => showError(`Error loading script: ${err.message}`));\n",
       "    } else {\n",
       "      maybeLoadScript(\"vega\", \"5\")\n",
       "        .then(() => maybeLoadScript(\"vega-lite\", \"5.8.0\"))\n",
       "        .then(() => maybeLoadScript(\"vega-embed\", \"6\"))\n",
       "        .catch(showError)\n",
       "        .then(() => displayChart(vegaEmbed));\n",
       "    }\n",
       "  })({\"config\": {\"view\": {\"continuousWidth\": 300, \"continuousHeight\": 300}}, \"vconcat\": [{\"mark\": {\"type\": \"line\"}, \"encoding\": {\"color\": {\"field\": \"variable\", \"legend\": {\"title\": \"category\", \"orient\": \"right\"}, \"scale\": {\"domain\": [\"education\", \"work\", \"extra-curricular activities & hobbies\", \"family\", \"productivity\"], \"range\": [\"#1b9e77\", \"#8e6c87\", \"#a76854\", \"#d69e09\", \"#666666\"]}, \"type\": \"ordinal\"}, \"x\": {\"axis\": {\"format\": \"g\", \"title\": null}, \"field\": \"year\", \"scale\": {\"domain\": [2007, 2023]}, \"type\": \"quantitative\"}, \"y\": {\"axis\": {\"labelOpacity\": 0, \"title\": null}, \"field\": \"value\", \"scale\": {\"domain\": [0, 40]}, \"type\": \"quantitative\"}}, \"height\": 250, \"name\": \"view_4\", \"transform\": [{\"filter\": {\"and\": [{\"equal\": \"line\", \"field\": \"type\"}, {\"param\": \"param_2\"}]}}], \"width\": 500}, {\"layer\": [{\"mark\": {\"type\": \"point\", \"filled\": true, \"size\": 200}, \"encoding\": {\"color\": {\"condition\": {\"param\": \"param_2\", \"field\": \"variable\", \"legend\": null, \"scale\": {\"domain\": [\"education\", \"work\", \"extra-curricular activities & hobbies\", \"family\", \"productivity\"], \"range\": [\"#1b9e77\", \"#8e6c87\", \"#a76854\", \"#d69e09\", \"#666666\"]}, \"type\": \"ordinal\"}, \"value\": \"lightgray\"}, \"href\": {\"field\": \"id\", \"type\": \"nominal\"}, \"tooltip\": {\"field\": \"value\", \"type\": \"nominal\"}, \"x\": {\"axis\": {\"format\": \"g\", \"title\": null}, \"field\": \"year\", \"scale\": {\"domain\": [2007, 2023]}, \"type\": \"quantitative\"}, \"y\": {\"axis\": {\"title\": null}, \"field\": \"variable\", \"type\": \"ordinal\"}}, \"name\": \"view_3\", \"transform\": [{\"filter\": {\"and\": [{\"equal\": \"point\", \"field\": \"type\"}, {\"not\": {\"equal\": \"noLink\", \"field\": \"id\"}}]}}]}, {\"mark\": {\"type\": \"point\", \"filled\": true, \"size\": 200}, \"encoding\": {\"color\": {\"condition\": {\"param\": \"param_2\", \"field\": \"variable\", \"legend\": null, \"scale\": {\"domain\": [\"education\", \"work\", \"extra-curricular activities & hobbies\", \"family\", \"productivity\"], \"range\": [\"#1b9e77\", \"#8e6c87\", \"#a76854\", \"#d69e09\", \"#666666\"]}, \"type\": \"ordinal\"}, \"value\": \"lightgray\"}, \"tooltip\": {\"field\": \"value\", \"type\": \"nominal\"}, \"x\": {\"axis\": {\"format\": \"g\", \"title\": null}, \"field\": \"year\", \"scale\": {\"domain\": [2007, 2023]}, \"type\": \"quantitative\"}, \"y\": {\"axis\": {\"title\": null}, \"field\": \"variable\", \"type\": \"ordinal\"}}, \"transform\": [{\"filter\": {\"equal\": \"noLink\", \"field\": \"id\"}}]}], \"height\": 250, \"width\": 500}], \"data\": {\"name\": \"data-bdf683ebad718e88539585bfa6cf257a\"}, \"params\": [{\"name\": \"param_2\", \"select\": {\"type\": \"point\", \"fields\": [\"variable\"], \"nearest\": false, \"on\": \"mouseover\"}, \"views\": [\"view_4\", \"view_3\"]}], \"$schema\": \"https://vega.github.io/schema/vega-lite/v5.8.0.json\", \"datasets\": {\"data-bdf683ebad718e88539585bfa6cf257a\": [{\"year\": 2008, \"variable\": \"education\", \"value\": 4, \"type\": \"line\", \"id\": null}, {\"year\": 2009, \"variable\": \"education\", \"value\": 10, \"type\": \"line\", \"id\": null}, {\"year\": 2010, \"variable\": \"education\", \"value\": 10, \"type\": \"line\", \"id\": null}, {\"year\": 2011, \"variable\": \"education\", \"value\": 9, \"type\": \"line\", \"id\": null}, {\"year\": 2012, \"variable\": \"education\", \"value\": 9, \"type\": \"line\", \"id\": null}, {\"year\": 2013, \"variable\": \"education\", \"value\": 8, \"type\": \"line\", \"id\": null}, {\"year\": 2014, \"variable\": \"education\", \"value\": 9, \"type\": \"line\", \"id\": null}, {\"year\": 2015, \"variable\": \"education\", \"value\": 8, \"type\": \"line\", \"id\": null}, {\"year\": 2016, \"variable\": \"education\", \"value\": 5, \"type\": \"line\", \"id\": null}, {\"year\": 2017, \"variable\": \"education\", \"value\": 15, \"type\": \"line\", \"id\": null}, {\"year\": 2018, \"variable\": \"education\", \"value\": 12, \"type\": \"line\", \"id\": null}, {\"year\": 2019, \"variable\": \"education\", \"value\": 12, \"type\": \"line\", \"id\": null}, {\"year\": 2020, \"variable\": \"education\", \"value\": 1, \"type\": \"line\", \"id\": null}, {\"year\": 2021, \"variable\": \"education\", \"value\": 4, \"type\": \"line\", \"id\": null}, {\"year\": 2022, \"variable\": \"education\", \"value\": 4, \"type\": \"line\", \"id\": null}, {\"year\": 2023, \"variable\": \"education\", \"value\": 1, \"type\": \"line\", \"id\": null}, {\"year\": 2008, \"variable\": \"work\", \"value\": 6, \"type\": \"line\", \"id\": null}, {\"year\": 2009, \"variable\": \"work\", \"value\": 0, \"type\": \"line\", \"id\": null}, {\"year\": 2010, \"variable\": \"work\", \"value\": 0, \"type\": \"line\", \"id\": null}, {\"year\": 2011, \"variable\": \"work\", \"value\": 0, \"type\": \"line\", \"id\": null}, {\"year\": 2012, \"variable\": \"work\", \"value\": 0, \"type\": \"line\", \"id\": null}, {\"year\": 2013, \"variable\": \"work\", \"value\": 0, \"type\": \"line\", \"id\": null}, {\"year\": 2014, \"variable\": \"work\", \"value\": 0, \"type\": \"line\", \"id\": null}, {\"year\": 2015, \"variable\": \"work\", \"value\": 5, \"type\": \"line\", \"id\": null}, {\"year\": 2016, \"variable\": \"work\", \"value\": 5, \"type\": \"line\", \"id\": null}, {\"year\": 2017, \"variable\": \"work\", \"value\": 4, \"type\": \"line\", \"id\": null}, {\"year\": 2018, \"variable\": \"work\", \"value\": 10, \"type\": \"line\", \"id\": null}, {\"year\": 2019, \"variable\": \"work\", \"value\": 10, \"type\": \"line\", \"id\": null}, {\"year\": 2020, \"variable\": \"work\", \"value\": 19, \"type\": \"line\", \"id\": null}, {\"year\": 2021, \"variable\": \"work\", \"value\": 18, \"type\": \"line\", \"id\": null}, {\"year\": 2022, \"variable\": \"work\", \"value\": 18, \"type\": \"line\", \"id\": null}, {\"year\": 2023, \"variable\": \"work\", \"value\": 22, \"type\": \"line\", \"id\": null}, {\"year\": 2008, \"variable\": \"extra-curricular activities & hobbies\", \"value\": 4, \"type\": \"line\", \"id\": null}, {\"year\": 2009, \"variable\": \"extra-curricular activities & hobbies\", \"value\": 0, \"type\": \"line\", \"id\": null}, {\"year\": 2010, \"variable\": \"extra-curricular activities & hobbies\", \"value\": 3, \"type\": \"line\", \"id\": null}, {\"year\": 2011, \"variable\": \"extra-curricular activities & hobbies\", \"value\": 5, \"type\": \"line\", \"id\": null}, {\"year\": 2012, \"variable\": \"extra-curricular activities & hobbies\", \"value\": 4, \"type\": \"line\", \"id\": null}, {\"year\": 2013, \"variable\": \"extra-curricular activities & hobbies\", \"value\": 6, \"type\": \"line\", \"id\": null}, {\"year\": 2014, \"variable\": \"extra-curricular activities & hobbies\", \"value\": 8, \"type\": \"line\", \"id\": null}, {\"year\": 2015, \"variable\": \"extra-curricular activities & hobbies\", \"value\": 1, \"type\": \"line\", \"id\": null}, {\"year\": 2016, \"variable\": \"extra-curricular activities & hobbies\", \"value\": 5, \"type\": \"line\", \"id\": null}, {\"year\": 2017, \"variable\": \"extra-curricular activities & hobbies\", \"value\": 2, \"type\": \"line\", \"id\": null}, {\"year\": 2018, \"variable\": \"extra-curricular activities & hobbies\", \"value\": 1, \"type\": \"line\", \"id\": null}, {\"year\": 2019, \"variable\": \"extra-curricular activities & hobbies\", \"value\": 1, \"type\": \"line\", \"id\": null}, {\"year\": 2020, \"variable\": \"extra-curricular activities & hobbies\", \"value\": 0, \"type\": \"line\", \"id\": null}, {\"year\": 2021, \"variable\": \"extra-curricular activities & hobbies\", \"value\": 1, \"type\": \"line\", \"id\": null}, {\"year\": 2022, \"variable\": \"extra-curricular activities & hobbies\", \"value\": 1, \"type\": \"line\", \"id\": null}, {\"year\": 2023, \"variable\": \"extra-curricular activities & hobbies\", \"value\": 1, \"type\": \"line\", \"id\": null}, {\"year\": 2008, \"variable\": \"family\", \"value\": 5, \"type\": \"line\", \"id\": null}, {\"year\": 2009, \"variable\": \"family\", \"value\": 3, \"type\": \"line\", \"id\": null}, {\"year\": 2010, \"variable\": \"family\", \"value\": 2, \"type\": \"line\", \"id\": null}, {\"year\": 2011, \"variable\": \"family\", \"value\": 1, \"type\": \"line\", \"id\": null}, {\"year\": 2012, \"variable\": \"family\", \"value\": 1, \"type\": \"line\", \"id\": null}, {\"year\": 2013, \"variable\": \"family\", \"value\": 1, \"type\": \"line\", \"id\": null}, {\"year\": 2014, \"variable\": \"family\", \"value\": 2, \"type\": \"line\", \"id\": null}, {\"year\": 2015, \"variable\": \"family\", \"value\": 10, \"type\": \"line\", \"id\": null}, {\"year\": 2016, \"variable\": \"family\", \"value\": 8, \"type\": \"line\", \"id\": null}, {\"year\": 2017, \"variable\": \"family\", \"value\": 5, \"type\": \"line\", \"id\": null}, {\"year\": 2018, \"variable\": \"family\", \"value\": 6, \"type\": \"line\", \"id\": null}, {\"year\": 2019, \"variable\": \"family\", \"value\": 6, \"type\": \"line\", \"id\": null}, {\"year\": 2020, \"variable\": \"family\", \"value\": 6, \"type\": \"line\", \"id\": null}, {\"year\": 2021, \"variable\": \"family\", \"value\": 6, \"type\": \"line\", \"id\": null}, {\"year\": 2022, \"variable\": \"family\", \"value\": 10, \"type\": \"line\", \"id\": null}, {\"year\": 2023, \"variable\": \"family\", \"value\": 15, \"type\": \"line\", \"id\": null}, {\"year\": 2008, \"variable\": \"productivity\", \"value\": 19, \"type\": \"line\", \"id\": null}, {\"year\": 2009, \"variable\": \"productivity\", \"value\": 13, \"type\": \"line\", \"id\": null}, {\"year\": 2010, \"variable\": \"productivity\", \"value\": 15, \"type\": \"line\", \"id\": null}, {\"year\": 2011, \"variable\": \"productivity\", \"value\": 15, \"type\": \"line\", \"id\": null}, {\"year\": 2012, \"variable\": \"productivity\", \"value\": 14, \"type\": \"line\", \"id\": null}, {\"year\": 2013, \"variable\": \"productivity\", \"value\": 15, \"type\": \"line\", \"id\": null}, {\"year\": 2014, \"variable\": \"productivity\", \"value\": 19, \"type\": \"line\", \"id\": null}, {\"year\": 2015, \"variable\": \"productivity\", \"value\": 24, \"type\": \"line\", \"id\": null}, {\"year\": 2016, \"variable\": \"productivity\", \"value\": 23, \"type\": \"line\", \"id\": null}, {\"year\": 2017, \"variable\": \"productivity\", \"value\": 26, \"type\": \"line\", \"id\": null}, {\"year\": 2018, \"variable\": \"productivity\", \"value\": 29, \"type\": \"line\", \"id\": null}, {\"year\": 2019, \"variable\": \"productivity\", \"value\": 29, \"type\": \"line\", \"id\": null}, {\"year\": 2020, \"variable\": \"productivity\", \"value\": 26, \"type\": \"line\", \"id\": null}, {\"year\": 2021, \"variable\": \"productivity\", \"value\": 29, \"type\": \"line\", \"id\": null}, {\"year\": 2022, \"variable\": \"productivity\", \"value\": 33, \"type\": \"line\", \"id\": null}, {\"year\": 2023, \"variable\": \"productivity\", \"value\": 39, \"type\": \"line\", \"id\": null}, {\"year\": 2008, \"variable\": \"work\", \"value\": \"Office internship\", \"type\": \"point\", \"id\": \"noLink\"}, {\"year\": 2008, \"variable\": \"family\", \"value\": \"Leave parents' home\", \"type\": \"point\", \"id\": \"noLink\"}, {\"year\": 2009, \"variable\": \"education\", \"value\": \"B.Eng start\", \"type\": \"point\", \"id\": \"noLink\"}, {\"year\": 2015, \"variable\": \"work\", \"value\": \"Internship city planning\", \"type\": \"point\", \"id\": \"#ippuj\"}, {\"year\": 2015, \"variable\": \"education\", \"value\": \"Graduation B.Eng\", \"type\": \"point\", \"id\": \"#bsc\"}, {\"year\": 2015, \"variable\": \"family\", \"value\": \"Marriage & move to Switzerland\", \"type\": \"point\", \"id\": \"noLink\"}, {\"year\": 2016, \"variable\": \"work\", \"value\": \"Job as student assistant at ETH Zurich\", \"type\": \"point\", \"id\": \"#hiwi\"}, {\"year\": 2017, \"variable\": \"education\", \"value\": \"Start MSc ETHZ\", \"type\": \"point\", \"id\": \"noLink\"}, {\"year\": 2018, \"variable\": \"work\", \"value\": \"Internship ASE\", \"type\": \"point\", \"id\": \"#ase\"}, {\"year\": 2019, \"variable\": \"education\", \"value\": \"MSc Thesis at SBB\", \"type\": \"point\", \"id\": \"noLink\"}, {\"year\": 2019, \"variable\": \"work\", \"value\": \"Internship at SBB\", \"type\": \"point\", \"id\": \"#sbb1\"}, {\"year\": 2020, \"variable\": \"work\", \"value\": \"Transport planner at SBB\", \"type\": \"point\", \"id\": \"#sbb2\"}, {\"year\": 2020, \"variable\": \"education\", \"value\": \"Graduation MSc ETHZ\", \"type\": \"point\", \"id\": \"#msc\"}, {\"year\": 2021, \"variable\": \"education\", \"value\": \"CAS Unibern in Applied Data Science\", \"type\": \"point\", \"id\": \"#cas-unibern-applied-data-science\"}, {\"year\": 2022, \"variable\": \"family\", \"value\": \"Birth first child\", \"type\": \"point\", \"id\": \"noLink\"}, {\"year\": 2023, \"variable\": \"family\", \"value\": \"Birth second child\", \"type\": \"point\", \"id\": \"noLink\"}, {\"year\": 2023, \"variable\": \"work\", \"value\": \"Data scientist at SGM\", \"type\": \"point\", \"id\": \"noLink\"}]}}, {\"mode\": \"vega-lite\"});\n",
       "</script>"
      ],
      "text/plain": [
       "alt.VConcatChart(...)"
      ]
     },
     "execution_count": 12,
     "metadata": {},
     "output_type": "execute_result"
    }
   ],
   "source": [
    "get_chart(data)"
   ]
  },
  {
   "cell_type": "markdown",
   "id": "7b23e779",
   "metadata": {},
   "source": [
    "---"
   ]
  },
  {
   "cell_type": "markdown",
   "id": "aa2e1b8d",
   "metadata": {},
   "source": [
    "## Education"
   ]
  },
  {
   "cell_type": "markdown",
   "id": "209987a8",
   "metadata": {},
   "source": [
    "(cas)=\n",
    "### CAS UniBern Applied Data Science"
   ]
  },
  {
   "cell_type": "markdown",
   "id": "8e104154",
   "metadata": {},
   "source": [
    "Title final project: Network-wide estimation of train passenger counts using machine learning. [⤣](chart)"
   ]
  },
  {
   "cell_type": "markdown",
   "id": "159839c1",
   "metadata": {},
   "source": [
    "(msc)=\n",
    "### MSc ETH Spatial Development & Infrastructure Systems"
   ]
  },
  {
   "cell_type": "markdown",
   "id": "7bedef60",
   "metadata": {},
   "source": [
    "MSc Thesis: Convergence towards equilibrium in an agent-based transport simulation. [⤣](chart)"
   ]
  },
  {
   "cell_type": "markdown",
   "id": "9f097667",
   "metadata": {},
   "source": [
    "(bsc)=\n",
    "### B.Eng Transportation & Logistics (UFSC, Brazil)"
   ]
  },
  {
   "cell_type": "markdown",
   "id": "60a9599a",
   "metadata": {},
   "source": [
    "Graduation thesis: Development of a MATSim transport model for the city of Joinville (Brazil). [⤣](chart)"
   ]
  },
  {
   "cell_type": "markdown",
   "id": "8fb7e0ba",
   "metadata": {},
   "source": [
    "---"
   ]
  },
  {
   "cell_type": "markdown",
   "id": "7ef54ce7",
   "metadata": {},
   "source": [
    "## Work Experience"
   ]
  },
  {
   "cell_type": "markdown",
   "id": "e7db6336",
   "metadata": {},
   "source": [
    "(sbb2)=\n",
    "### Transport Modelling at SBB (Bern)"
   ]
  },
  {
   "cell_type": "markdown",
   "id": "0ad35047",
   "metadata": {},
   "source": [
    "Model development and application: \n",
    "\n",
    "- Agent-based (reinforcement learning)\n",
    "- Machine learning (supervised, tree-based)\n",
    "- Discrete choice modelling (i.e. logistic regression applied to choice behavior)\n",
    "\n",
    "Workflow automation:\n",
    "\n",
    "- Developing custom workflows (Windows, AWS)\n",
    "- Setting up DevOps pipelines (git, Jenkins, Tekton)\n",
    "- Configuring MLOps pipelines (Argo, MLFlow)\n",
    "\n",
    "Analytics/Other:\n",
    "\n",
    "- Custom dashboarding and reporting with Jupyter\n",
    "- (Statistical) Anonymization of sensitive data\n",
    "- Geographical analysis and visualization\n",
    "[⤣](chart)"
   ]
  },
  {
   "cell_type": "markdown",
   "id": "3034c65d",
   "metadata": {},
   "source": [
    "(sbb1)=\n",
    "### Internship & MSc Thesis at SBB (Bern)"
   ]
  },
  {
   "cell_type": "markdown",
   "id": "ce536240",
   "metadata": {},
   "source": [
    "Statistical analysis of an agent-based transport model, particularly in respect to stochastic convergence and results variability.\n",
    "\n",
    "Note: writing my MSc Thesis was part of my internship at SBB. [⤣](chart)"
   ]
  },
  {
   "cell_type": "markdown",
   "id": "1acef94e",
   "metadata": {},
   "source": [
    "(ase)=\n",
    "### Internship Modeling and Simulation at ASE AG (Zurich)"
   ]
  },
  {
   "cell_type": "markdown",
   "id": "52b5d91d",
   "metadata": {},
   "source": [
    "Worked on the development of a MATSim model for a multinational agglomeration. \n",
    "\n",
    "My tasks involved automation in Java, data analysis including pre- and post-processing as well as support for model calibration. [⤣](chart)"
   ]
  },
  {
   "cell_type": "markdown",
   "id": "6d149719",
   "metadata": {},
   "source": [
    "(hiwi)=\n",
    "### Student Research Assistant at IVT-ETH (Zurich)"
   ]
  },
  {
   "cell_type": "markdown",
   "id": "f871ada4",
   "metadata": {},
   "source": [
    "Data analysis and preparation for the development of multi-agent transport models. [⤣](chart)"
   ]
  },
  {
   "cell_type": "markdown",
   "id": "ea3a0895",
   "metadata": {},
   "source": [
    "(ippuj)=\n",
    "### Internship in Geographical Statistics at the municipal planning authority (Joinville, Brazil)"
   ]
  },
  {
   "cell_type": "markdown",
   "id": "8e83359a",
   "metadata": {},
   "source": [
    "Geographical data preparation for spatial and transport planning. [⤣](chart)"
   ]
  },
  {
   "cell_type": "markdown",
   "id": "8dd2d901",
   "metadata": {},
   "source": [
    "---"
   ]
  },
  {
   "cell_type": "markdown",
   "id": "e6f51afe",
   "metadata": {},
   "source": [
    "## Skills"
   ]
  },
  {
   "cell_type": "code",
   "execution_count": 10,
   "id": "4427639c",
   "metadata": {
    "tags": [
     "remove-cell"
    ]
   },
   "outputs": [],
   "source": [
    "skills = pd.read_csv(\"../skills.txt\", sep=\"\\t\", encoding=\"latin-1\")\n",
    "\n",
    "domain = ['skill', 'programming', 'language', 'processes']\n",
    "range_ = ['#1b9e77', '#8e6c87', '#a76854', '#d69e09', '#666666']\n",
    "\n",
    "charts = [alt.Chart(skills.query(f\"category=='{cat}'\"), title=cat).properties(\n",
    "        width=200).mark_bar().encode(\n",
    "    x=alt.X('level:Q', axis=alt.Axis(title=None, labelOpacity=0)).scale(domain=[0, 5]),\n",
    "    color=alt.Color('category:N', scale=alt.Scale(domain=domain, range=range_)).legend(None),\n",
    "    y=alt.Y('skill:N', axis=alt.Axis(title=None)),\n",
    ") for cat in skills.category.unique()]"
   ]
  },
  {
   "cell_type": "code",
   "execution_count": 11,
   "id": "9fefe261",
   "metadata": {
    "tags": [
     "remove-input"
    ]
   },
   "outputs": [
    {
     "data": {
      "text/html": [
       "\n",
       "<style>\n",
       "  #altair-viz-5fae8c426aed46bfbf90cf47c6ab1979.vega-embed {\n",
       "    width: 100%;\n",
       "    display: flex;\n",
       "  }\n",
       "\n",
       "  #altair-viz-5fae8c426aed46bfbf90cf47c6ab1979.vega-embed details,\n",
       "  #altair-viz-5fae8c426aed46bfbf90cf47c6ab1979.vega-embed details summary {\n",
       "    position: relative;\n",
       "  }\n",
       "</style>\n",
       "<div id=\"altair-viz-5fae8c426aed46bfbf90cf47c6ab1979\"></div>\n",
       "<script type=\"text/javascript\">\n",
       "  var VEGA_DEBUG = (typeof VEGA_DEBUG == \"undefined\") ? {} : VEGA_DEBUG;\n",
       "  (function(spec, embedOpt){\n",
       "    let outputDiv = document.currentScript.previousElementSibling;\n",
       "    if (outputDiv.id !== \"altair-viz-5fae8c426aed46bfbf90cf47c6ab1979\") {\n",
       "      outputDiv = document.getElementById(\"altair-viz-5fae8c426aed46bfbf90cf47c6ab1979\");\n",
       "    }\n",
       "    const paths = {\n",
       "      \"vega\": \"https://cdn.jsdelivr.net/npm/vega@5?noext\",\n",
       "      \"vega-lib\": \"https://cdn.jsdelivr.net/npm/vega-lib?noext\",\n",
       "      \"vega-lite\": \"https://cdn.jsdelivr.net/npm/vega-lite@5.8.0?noext\",\n",
       "      \"vega-embed\": \"https://cdn.jsdelivr.net/npm/vega-embed@6?noext\",\n",
       "    };\n",
       "\n",
       "    function maybeLoadScript(lib, version) {\n",
       "      var key = `${lib.replace(\"-\", \"\")}_version`;\n",
       "      return (VEGA_DEBUG[key] == version) ?\n",
       "        Promise.resolve(paths[lib]) :\n",
       "        new Promise(function(resolve, reject) {\n",
       "          var s = document.createElement('script');\n",
       "          document.getElementsByTagName(\"head\")[0].appendChild(s);\n",
       "          s.async = true;\n",
       "          s.onload = () => {\n",
       "            VEGA_DEBUG[key] = version;\n",
       "            return resolve(paths[lib]);\n",
       "          };\n",
       "          s.onerror = () => reject(`Error loading script: ${paths[lib]}`);\n",
       "          s.src = paths[lib];\n",
       "        });\n",
       "    }\n",
       "\n",
       "    function showError(err) {\n",
       "      outputDiv.innerHTML = `<div class=\"error\" style=\"color:red;\">${err}</div>`;\n",
       "      throw err;\n",
       "    }\n",
       "\n",
       "    function displayChart(vegaEmbed) {\n",
       "      vegaEmbed(outputDiv, spec, embedOpt)\n",
       "        .catch(err => showError(`Javascript Error: ${err.message}<br>This usually means there's a typo in your chart specification. See the javascript console for the full traceback.`));\n",
       "    }\n",
       "\n",
       "    if(typeof define === \"function\" && define.amd) {\n",
       "      requirejs.config({paths});\n",
       "      require([\"vega-embed\"], displayChart, err => showError(`Error loading script: ${err.message}`));\n",
       "    } else {\n",
       "      maybeLoadScript(\"vega\", \"5\")\n",
       "        .then(() => maybeLoadScript(\"vega-lite\", \"5.8.0\"))\n",
       "        .then(() => maybeLoadScript(\"vega-embed\", \"6\"))\n",
       "        .catch(showError)\n",
       "        .then(() => displayChart(vegaEmbed));\n",
       "    }\n",
       "  })({\"config\": {\"view\": {\"continuousWidth\": 300, \"continuousHeight\": 300}}, \"hconcat\": [{\"vconcat\": [{\"data\": {\"name\": \"data-5ae2e90d51573661aa14a1a12468413e\"}, \"mark\": {\"type\": \"bar\"}, \"encoding\": {\"color\": {\"field\": \"category\", \"legend\": null, \"scale\": {\"domain\": [\"skill\", \"programming\", \"language\", \"process\"], \"range\": [\"#1b9e77\", \"#8e6c87\", \"#a76854\", \"#d69e09\", \"#666666\"]}, \"type\": \"nominal\"}, \"x\": {\"axis\": {\"labelOpacity\": 0, \"title\": null}, \"field\": \"level\", \"scale\": {\"domain\": [0, 5]}, \"type\": \"quantitative\"}, \"y\": {\"axis\": {\"title\": null}, \"field\": \"skill\", \"type\": \"nominal\"}}, \"title\": \"programming\", \"width\": 200}, {\"data\": {\"name\": \"data-758a3ad68978a74aad9ec0f28b9ae2df\"}, \"mark\": {\"type\": \"bar\"}, \"encoding\": {\"color\": {\"field\": \"category\", \"legend\": null, \"scale\": {\"domain\": [\"skill\", \"programming\", \"language\", \"process\"], \"range\": [\"#1b9e77\", \"#8e6c87\", \"#a76854\", \"#d69e09\", \"#666666\"]}, \"type\": \"nominal\"}, \"x\": {\"axis\": {\"labelOpacity\": 0, \"title\": null}, \"field\": \"level\", \"scale\": {\"domain\": [0, 5]}, \"type\": \"quantitative\"}, \"y\": {\"axis\": {\"title\": null}, \"field\": \"skill\", \"type\": \"nominal\"}}, \"title\": \"process\", \"width\": 200}]}, {\"vconcat\": [{\"data\": {\"name\": \"data-c5be7fde38747af8ae17ef3b5e21ba9a\"}, \"mark\": {\"type\": \"bar\"}, \"encoding\": {\"color\": {\"field\": \"category\", \"legend\": null, \"scale\": {\"domain\": [\"skill\", \"programming\", \"language\", \"process\"], \"range\": [\"#1b9e77\", \"#8e6c87\", \"#a76854\", \"#d69e09\", \"#666666\"]}, \"type\": \"nominal\"}, \"x\": {\"axis\": {\"labelOpacity\": 0, \"title\": null}, \"field\": \"level\", \"scale\": {\"domain\": [0, 5]}, \"type\": \"quantitative\"}, \"y\": {\"axis\": {\"title\": null}, \"field\": \"skill\", \"type\": \"nominal\"}}, \"title\": \"skill\", \"width\": 200}, {\"data\": {\"name\": \"data-2d7654ba796af84a037119667191a372\"}, \"mark\": {\"type\": \"bar\"}, \"encoding\": {\"color\": {\"field\": \"category\", \"legend\": null, \"scale\": {\"domain\": [\"skill\", \"programming\", \"language\", \"process\"], \"range\": [\"#1b9e77\", \"#8e6c87\", \"#a76854\", \"#d69e09\", \"#666666\"]}, \"type\": \"nominal\"}, \"x\": {\"axis\": {\"labelOpacity\": 0, \"title\": null}, \"field\": \"level\", \"scale\": {\"domain\": [0, 5]}, \"type\": \"quantitative\"}, \"y\": {\"axis\": {\"title\": null}, \"field\": \"skill\", \"type\": \"nominal\"}}, \"title\": \"language\", \"width\": 200}]}], \"$schema\": \"https://vega.github.io/schema/vega-lite/v5.8.0.json\", \"datasets\": {\"data-5ae2e90d51573661aa14a1a12468413e\": [{\"skill\": \"Python\", \"category\": \"programming\", \"level\": 5.0}, {\"skill\": \"Java\", \"category\": \"programming\", \"level\": 4.0}, {\"skill\": \"R\", \"category\": \"programming\", \"level\": 3.5}, {\"skill\": \"SQL\", \"category\": \"programming\", \"level\": 3.5}], \"data-758a3ad68978a74aad9ec0f28b9ae2df\": [{\"skill\": \"DevOps\", \"category\": \"process\", \"level\": 4.5}, {\"skill\": \"MLOps\", \"category\": \"process\", \"level\": 3.5}, {\"skill\": \"Scrum\", \"category\": \"process\", \"level\": 4.0}], \"data-c5be7fde38747af8ae17ef3b5e21ba9a\": [{\"skill\": \"GIS\", \"category\": \"skill\", \"level\": 4.0}, {\"skill\": \"Statistics\", \"category\": \"skill\", \"level\": 4.5}, {\"skill\": \"Machine Learning\", \"category\": \"skill\", \"level\": 3.5}], \"data-2d7654ba796af84a037119667191a372\": [{\"skill\": \"English\", \"category\": \"language\", \"level\": 5.0}, {\"skill\": \"German\", \"category\": \"language\", \"level\": 4.5}, {\"skill\": \"Italian\", \"category\": \"language\", \"level\": 3.5}, {\"skill\": \"Spanish\", \"category\": \"language\", \"level\": 3.5}, {\"skill\": \"Portuguese\", \"category\": \"language\", \"level\": 5.0}]}}, {\"mode\": \"vega-lite\"});\n",
       "</script>"
      ],
      "text/plain": [
       "alt.HConcatChart(...)"
      ]
     },
     "execution_count": 11,
     "metadata": {},
     "output_type": "execute_result"
    }
   ],
   "source": [
    "(charts[0] & charts[1]) | (charts[2] & charts[3])"
   ]
  }
 ],
 "metadata": {
  "celltoolbar": "Edit Metadata",
  "jupytext": {
   "formats": "ipynb,md:myst"
  },
  "kernelspec": {
   "display_name": "Python 3 (ipykernel)",
   "language": "python",
   "name": "python3"
  },
  "language_info": {
   "codemirror_mode": {
    "name": "ipython",
    "version": 3
   },
   "file_extension": ".py",
   "mimetype": "text/x-python",
   "name": "python",
   "nbconvert_exporter": "python",
   "pygments_lexer": "ipython3",
   "version": "3.11.4"
  }
 },
 "nbformat": 4,
 "nbformat_minor": 5
}
